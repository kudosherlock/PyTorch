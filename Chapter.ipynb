{
 "cells": [
  {
   "attachments": {},
   "cell_type": "markdown",
   "id": "e558d0ef",
   "metadata": {},
   "source": [
    "# 0 准备工作\n",
    "\n",
    "## 0.1 Git\n",
    "\n",
    "Git是一个版本控制系统\n",
    "\n",
    "Git的安装和使用可以参考liaoxuefeng.com\n",
    "\n",
    "如果从零开发，推荐先创建远程库，再从远程库克隆\n",
    "\n",
    "第一步，安装后在应用中找到Git Bash\n",
    "\n",
    "创建SSH Key:\n",
    "\n",
    "`ssh-keygen -t rsa -C \"youremail@example.com\"`\n",
    "\n",
    "回车默认值即可\n",
    "\n",
    "可以在用户主目录里找到id_rsa 和id_rsa.pub两个文件，后者是公钥\n",
    "\n",
    "第二步，登录github，打开Account Settings->SSH Keys，把公钥中的内容添加为新的SSH Key\n",
    "\n",
    "第三步，在github中创建新的仓库，命名为Pytorch\n",
    "\n",
    "第四步，根据远程库创建本地库\n",
    "\n",
    "打开文件夹命令\n",
    "\n",
    "`cd d:`\n",
    "\n",
    "`cd /d/PYTHON_FILE`\n",
    "\n",
    "显示当前文件夹\n",
    "\n",
    "`pwd`\n",
    "\n",
    "克隆命令\n",
    "\n",
    "`git clone git@github.com:yourname/Pytorch.git`\n",
    "\n",
    "如果不需要远程仓库，则可以创建本地仓库\n",
    "\n",
    "通过`git init`命令把该目录变成Git可以管理的仓库\n",
    "\n",
    "把文件放到Git仓库中只需要两步\n",
    "\n",
    "第一步，文件添加，例如：\n",
    "\n",
    "`git add readme.txt`\n",
    "\n",
    "第二步，文件提交，并添加提交说明\n",
    "\n",
    "`git commit -m \"wrote a readme file\"`"
   ]
  },
  {
   "cell_type": "code",
   "execution_count": null,
   "id": "da42d76c",
   "metadata": {},
   "outputs": [],
   "source": []
  }
 ],
 "metadata": {
  "kernelspec": {
   "display_name": "Python 3 (ipykernel)",
   "language": "python",
   "name": "python3"
  },
  "language_info": {
   "codemirror_mode": {
    "name": "ipython",
    "version": 3
   },
   "file_extension": ".py",
   "mimetype": "text/x-python",
   "name": "python",
   "nbconvert_exporter": "python",
   "pygments_lexer": "ipython3",
   "version": "3.11.4"
  }
 },
 "nbformat": 4,
 "nbformat_minor": 5
}
